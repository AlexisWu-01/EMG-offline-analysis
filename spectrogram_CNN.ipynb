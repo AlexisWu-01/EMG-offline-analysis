{
 "cells": [
  {
   "cell_type": "code",
   "execution_count": 1,
   "id": "4907c6ac-3b83-4bc4-9d28-471c7e7a2aa6",
   "metadata": {},
   "outputs": [],
   "source": [
    "import torch\n",
    "import numpy as np\n",
    "from scipy.io import loadmat\n",
    "import pandas as pd\n",
    "import matplotlib.pyplot as plt\n",
    "from scipy import signal\n"
   ]
  },
  {
   "cell_type": "code",
   "execution_count": 2,
   "id": "76956ddb-e1d5-4d60-8e3d-e5f20dd60799",
   "metadata": {},
   "outputs": [],
   "source": [
    "from torch.utils.data import TensorDataset, DataLoader"
   ]
  },
  {
   "cell_type": "code",
   "execution_count": 3,
   "id": "78b86eba-8687-4969-863a-da3e5c4a4459",
   "metadata": {},
   "outputs": [],
   "source": [
    "data = loadmat(\"exampleEMGdata180trial_train.mat\")\n",
    "trials = data['dataChTimeTr']\n",
    "labels = data['labels'].squeeze().tolist()\n",
    "labels = [n-1 for n in labels]\n",
    "sr = data['actualFs']"
   ]
  },
  {
   "cell_type": "code",
   "execution_count": 4,
   "id": "5d399975-3c02-4352-b363-1bf5437f1907",
   "metadata": {},
   "outputs": [],
   "source": [
    "images = []\n",
    "for i in range(180):\n",
    "    time_domain_data = trials[:,:,i]\n",
    "    spectrograms = []\n",
    "    for j in range(4):\n",
    "        f, t, Sxx = signal.spectrogram(time_domain_data[j], fs= sr)\n",
    "        spectrograms.append(Sxx)\n",
    "    multichannel_single_trial = np.stack(spectrograms, axis=-1)\n",
    "    images.append(multichannel_single_trial)\n",
    "images = np.array(images)"
   ]
  },
  {
   "cell_type": "code",
   "execution_count": 5,
   "id": "40281f6c-dc50-4eef-b1fb-678de799df1f",
   "metadata": {},
   "outputs": [],
   "source": [
    "images_torch = torch.tensor(images.transpose(0,3,1,2), dtype=torch.float32)\n",
    "dataset = TensorDataset(images_torch, torch.tensor(labels,dtype=torch.long))\n",
    "loader = DataLoader(dataset, batch_size=32, shuffle=True)"
   ]
  },
  {
   "cell_type": "code",
   "execution_count": 6,
   "id": "c3eab721-4700-4ed9-b63d-06954632fe8c",
   "metadata": {},
   "outputs": [],
   "source": [
    "import torch.nn as nn\n",
    "import torch.optim as optim"
   ]
  },
  {
   "cell_type": "code",
   "execution_count": 7,
   "id": "63cc6bb8-fa63-468a-b263-62041fcab379",
   "metadata": {},
   "outputs": [],
   "source": [
    "device = torch.device('cuda:0' if torch.cuda.is_available() else 'cpu')"
   ]
  },
  {
   "cell_type": "code",
   "execution_count": 40,
   "id": "93884841-3927-4b17-9a49-2eaae91b5840",
   "metadata": {},
   "outputs": [],
   "source": [
    "class MultiChannelCNN(nn.Module):\n",
    "    def __init__(self):\n",
    "        super(MultiChannelCNN, self).__init__()\n",
    "        self.conv1 = nn.Conv2d(in_channels=4, out_channels=32, kernel_size=(20,2), padding=1)\n",
    "        self.relu1 = nn.ReLU()\n",
    "        self.pool1 = nn.MaxPool2d(kernel_size=(10,2), stride=2)\n",
    "\n",
    "        self.conv2 = nn.Conv2d(in_channels=32, out_channels= 64, kernel_size=(20,2), padding=1)\n",
    "        self.relu2 = nn.ReLU()\n",
    "        self.pool2 = nn.MaxPool2d(kernel_size=(10,2), stride=2)\n",
    "\n",
    "        self.fc1 = nn.Linear(in_features=64*(13)*(2), out_features=500)\n",
    "        self.relu3 = nn.ReLU()\n",
    "\n",
    "        self.fc2 = nn.Linear(in_features=500, out_features = 3)\n",
    "\n",
    "    def forward(self,x):\n",
    "        x = self.conv1(x)\n",
    "        x = self.relu1(x)\n",
    "        x = self.pool1(x)\n",
    "        x = self.conv2(x)\n",
    "        x = self.relu2(x)\n",
    "        x = self.pool2(x)\n",
    "        x = torch.flatten(x, 1)\n",
    "        x = self.fc1(x)\n",
    "        x = self.relu3(x)\n",
    "        # pass the output to our softmax classifier to get our output\n",
    "        # predictions\n",
    "        x = self.fc2(x)\n",
    "        # return the output predictions\n",
    "        return x"
   ]
  },
  {
   "cell_type": "code",
   "execution_count": 57,
   "id": "3a566b45-9ef5-4716-a7f3-df039a498f5a",
   "metadata": {},
   "outputs": [],
   "source": [
    "model = MultiChannelCNN().to(device)\n",
    "optimizer = torch.optim.Adam(model.parameters(), lr = 1e-4)\n",
    "lossFn =nn.CrossEntropyLoss()\n"
   ]
  },
  {
   "cell_type": "code",
   "execution_count": 58,
   "id": "b898e7eb-9e2a-4b8d-aa51-bec96983e9d9",
   "metadata": {},
   "outputs": [
    {
     "name": "stdout",
     "output_type": "stream",
     "text": [
      "Epoch 1, Loss: 63042.1103515625\n",
      "Epoch 2, Loss: 50504.274739583336\n",
      "Epoch 3, Loss: 28902.653483072918\n",
      "Epoch 4, Loss: 6060.384826660156\n",
      "Epoch 5, Loss: 6702.554829915364\n",
      "Epoch 6, Loss: 3290.701690673828\n",
      "Epoch 7, Loss: 2043.847132364909\n",
      "Epoch 8, Loss: 2172.226763407389\n",
      "Epoch 9, Loss: 1219.530253092448\n",
      "Epoch 10, Loss: 952.273562113444\n",
      "Epoch 11, Loss: 316.42119216918945\n",
      "Epoch 12, Loss: 159.96730740865073\n",
      "Epoch 13, Loss: 164.1753247578939\n",
      "Epoch 14, Loss: 248.07035954793295\n",
      "Epoch 15, Loss: 58.07745488484701\n",
      "Epoch 16, Loss: 227.9706573486328\n",
      "Epoch 17, Loss: 307.44896443684894\n",
      "Epoch 18, Loss: 175.8828010559082\n",
      "Epoch 19, Loss: 26.81922785441081\n",
      "Epoch 20, Loss: 0.0\n",
      "Epoch 21, Loss: 3.186099052429199\n",
      "Epoch 22, Loss: 21.92144775390625\n",
      "Epoch 23, Loss: 374.8085352579753\n",
      "Epoch 24, Loss: 388.85475158691406\n",
      "Epoch 25, Loss: 0.0\n",
      "Epoch 26, Loss: 148.32023111979166\n",
      "Epoch 27, Loss: 245.68664169311523\n",
      "Epoch 28, Loss: 311.5575935045878\n",
      "Epoch 29, Loss: 7.256991068522136\n",
      "Epoch 30, Loss: 105.25927797953288\n",
      "Epoch 31, Loss: 3040.6451263427734\n",
      "Epoch 32, Loss: 1315.2727711995442\n",
      "Epoch 33, Loss: 196.26479403177896\n",
      "Epoch 34, Loss: 0.0\n",
      "Epoch 35, Loss: 3.8318519592285156\n",
      "Epoch 36, Loss: 45.33749771118164\n",
      "Epoch 37, Loss: 19.678428649902344\n",
      "Epoch 38, Loss: 262.7362060546875\n",
      "Epoch 39, Loss: 6.414028803507487\n",
      "Epoch 40, Loss: 1.3577423095703125\n",
      "Epoch 41, Loss: 0.0\n",
      "Epoch 42, Loss: 59.986531575520836\n",
      "Epoch 43, Loss: 0.0\n",
      "Epoch 44, Loss: 295.20838419596356\n",
      "Epoch 45, Loss: 4.0828431447347\n",
      "Epoch 46, Loss: 1050.925666809082\n",
      "Epoch 47, Loss: 50.2830810546875\n",
      "Epoch 48, Loss: 1156.264419555664\n",
      "Epoch 49, Loss: 136.03364054361978\n",
      "Epoch 50, Loss: 19.97143809000651\n",
      "Epoch 51, Loss: 324.5473238627116\n",
      "Epoch 52, Loss: 0.0\n",
      "Epoch 53, Loss: 0.0\n",
      "Epoch 54, Loss: 0.0\n",
      "Epoch 55, Loss: 0.0\n",
      "Epoch 56, Loss: 1.5069173177083333\n",
      "Epoch 57, Loss: 0.0\n",
      "Epoch 58, Loss: 0.0\n",
      "Epoch 59, Loss: 0.0\n",
      "Epoch 60, Loss: 0.0\n"
     ]
    }
   ],
   "source": [
    "num_epochs = 60\n",
    "for epoch in range(num_epochs):  # loop over the dataset multiple times\n",
    "    running_loss = 0.0\n",
    "    for i, data in enumerate(loader, 0):\n",
    "        inputs, labels = data\n",
    "        labels = labels.to(device)\n",
    "        inputs = inputs.to(device)\n",
    "        optimizer.zero_grad()\n",
    "        outputs = model(inputs).to(device)\n",
    "        # _, preds = torch.max(outputs,1)\n",
    "        loss = lossFn(outputs, labels)\n",
    "        loss.backward()\n",
    "        optimizer.step()\n",
    "        running_loss += loss.item()\n",
    "    print(f\"Epoch {epoch+1}, Loss: {running_loss / len(loader)}\")"
   ]
  },
  {
   "cell_type": "markdown",
   "id": "d7e7c154-c0e0-4fc6-bf89-c6aa31d5dadc",
   "metadata": {},
   "source": [
    "# Test"
   ]
  },
  {
   "cell_type": "code",
   "execution_count": 59,
   "id": "3fd0e823-262e-4a65-ab61-77dbe0229673",
   "metadata": {},
   "outputs": [],
   "source": [
    "test =  loadmat(\"exampleEMGdata120trial_test.mat\")\n",
    "test_trials = test['dataChTimeTr']\n",
    "test_labels = test['labels'].reshape(-1).tolist()\n",
    "test_labels = [n-1 for n in test_labels]\n"
   ]
  },
  {
   "cell_type": "code",
   "execution_count": 60,
   "id": "ed925c4c-7407-4ddf-ad54-ec00c25722ee",
   "metadata": {},
   "outputs": [],
   "source": [
    "test_images = []\n",
    "for i in range(test_trials.shape[-1]):\n",
    "    time_domain_data = test_trials[:,:,i]\n",
    "    spectrograms = []\n",
    "    for j in range(4):\n",
    "        f, t, Sxx = signal.spectrogram(time_domain_data[j], fs= sr)\n",
    "        spectrograms.append(Sxx)\n",
    "    multichannel_single_trial = np.stack(spectrograms, axis=-1)\n",
    "    test_images.append(multichannel_single_trial)\n",
    "test_images = np.array(test_images)"
   ]
  },
  {
   "cell_type": "code",
   "execution_count": 61,
   "id": "08769347-f368-465c-b99c-ece95cfa16af",
   "metadata": {},
   "outputs": [],
   "source": [
    "test_images_torch = torch.tensor(test_images.transpose(0,3,1,2), dtype=torch.float32)\n",
    "test_dataset = TensorDataset(test_images_torch, torch.tensor(test_labels,dtype=torch.long))\n",
    "test_loader = DataLoader(test_dataset, batch_size=32, shuffle=True)"
   ]
  },
  {
   "cell_type": "code",
   "execution_count": 62,
   "id": "8d4dfa1b-9a95-4ab3-a202-25f04ed4ad6f",
   "metadata": {},
   "outputs": [],
   "source": [
    "all_labels = []\n",
    "all_preds = []\n",
    "\n",
    "with torch.no_grad():  # Disable gradient computation\n",
    "    for inputs, labels in test_loader:\n",
    "        inputs = inputs.to(device)\n",
    "        labels = labels.to(device)\n",
    "        outputs = model(inputs)\n",
    "        _, preds = torch.max(outputs,1)\n",
    "        all_labels.append(labels)\n",
    "        all_preds.append(preds)\n",
    "\n",
    "# # Concatenate all the labels and predictions\n",
    "all_labels = torch.cat(all_labels)\n",
    "all_preds = torch.cat(all_preds)\n"
   ]
  },
  {
   "cell_type": "code",
   "execution_count": 63,
   "id": "9c6efa89-fb34-4ad5-b1ba-c103c353c3fb",
   "metadata": {},
   "outputs": [
    {
     "name": "stdout",
     "output_type": "stream",
     "text": [
      "Accuracy: 95.00%\n",
      "[[38  1  1]\n",
      " [ 2 38  0]\n",
      " [ 2  0 38]]\n"
     ]
    }
   ],
   "source": [
    "from sklearn.metrics import accuracy_score, classification_report,confusion_matrix\n",
    "\n",
    "# Convert to numpy arrays for use with sklearn\n",
    "all_labels = all_labels.cpu().numpy()\n",
    "all_preds = all_preds.cpu().numpy()\n",
    "\n",
    "# Calculate accuracy\n",
    "accuracy = accuracy_score(all_labels, all_preds)\n",
    "print(f'Accuracy: {accuracy * 100:.2f}%')\n",
    "\n",
    "cm = confusion_matrix(all_labels, all_preds)\n",
    "print(cm)\n"
   ]
  },
  {
   "cell_type": "code",
   "execution_count": 64,
   "id": "9ef46249-8e4a-4071-a950-66705fdd4197",
   "metadata": {},
   "outputs": [],
   "source": [
    "df = pd.DataFrame(np.stack([all_labels, all_preds]))"
   ]
  },
  {
   "cell_type": "code",
   "execution_count": 17,
   "id": "73d369d0-3585-4921-92e2-b17f21b8c17a",
   "metadata": {},
   "outputs": [
    {
     "data": {
      "text/html": [
       "<div>\n",
       "<style scoped>\n",
       "    .dataframe tbody tr th:only-of-type {\n",
       "        vertical-align: middle;\n",
       "    }\n",
       "\n",
       "    .dataframe tbody tr th {\n",
       "        vertical-align: top;\n",
       "    }\n",
       "\n",
       "    .dataframe thead th {\n",
       "        text-align: right;\n",
       "    }\n",
       "</style>\n",
       "<table border=\"1\" class=\"dataframe\">\n",
       "  <thead>\n",
       "    <tr style=\"text-align: right;\">\n",
       "      <th></th>\n",
       "      <th>0</th>\n",
       "      <th>1</th>\n",
       "      <th>2</th>\n",
       "      <th>3</th>\n",
       "      <th>4</th>\n",
       "      <th>5</th>\n",
       "      <th>6</th>\n",
       "      <th>7</th>\n",
       "      <th>8</th>\n",
       "      <th>9</th>\n",
       "      <th>...</th>\n",
       "      <th>110</th>\n",
       "      <th>111</th>\n",
       "      <th>112</th>\n",
       "      <th>113</th>\n",
       "      <th>114</th>\n",
       "      <th>115</th>\n",
       "      <th>116</th>\n",
       "      <th>117</th>\n",
       "      <th>118</th>\n",
       "      <th>119</th>\n",
       "    </tr>\n",
       "  </thead>\n",
       "  <tbody>\n",
       "    <tr>\n",
       "      <th>0</th>\n",
       "      <td>0</td>\n",
       "      <td>1</td>\n",
       "      <td>0</td>\n",
       "      <td>2</td>\n",
       "      <td>2</td>\n",
       "      <td>0</td>\n",
       "      <td>1</td>\n",
       "      <td>1</td>\n",
       "      <td>1</td>\n",
       "      <td>2</td>\n",
       "      <td>...</td>\n",
       "      <td>2</td>\n",
       "      <td>1</td>\n",
       "      <td>1</td>\n",
       "      <td>2</td>\n",
       "      <td>0</td>\n",
       "      <td>1</td>\n",
       "      <td>2</td>\n",
       "      <td>1</td>\n",
       "      <td>1</td>\n",
       "      <td>1</td>\n",
       "    </tr>\n",
       "    <tr>\n",
       "      <th>1</th>\n",
       "      <td>0</td>\n",
       "      <td>1</td>\n",
       "      <td>0</td>\n",
       "      <td>2</td>\n",
       "      <td>2</td>\n",
       "      <td>1</td>\n",
       "      <td>1</td>\n",
       "      <td>1</td>\n",
       "      <td>1</td>\n",
       "      <td>2</td>\n",
       "      <td>...</td>\n",
       "      <td>2</td>\n",
       "      <td>1</td>\n",
       "      <td>1</td>\n",
       "      <td>0</td>\n",
       "      <td>1</td>\n",
       "      <td>1</td>\n",
       "      <td>2</td>\n",
       "      <td>1</td>\n",
       "      <td>1</td>\n",
       "      <td>1</td>\n",
       "    </tr>\n",
       "  </tbody>\n",
       "</table>\n",
       "<p>2 rows × 120 columns</p>\n",
       "</div>"
      ],
      "text/plain": [
       "   0    1    2    3    4    5    6    7    8    9    ...  110  111  112  113  \\\n",
       "0    0    1    0    2    2    0    1    1    1    2  ...    2    1    1    2   \n",
       "1    0    1    0    2    2    1    1    1    1    2  ...    2    1    1    0   \n",
       "\n",
       "   114  115  116  117  118  119  \n",
       "0    0    1    2    1    1    1  \n",
       "1    1    1    2    1    1    1  \n",
       "\n",
       "[2 rows x 120 columns]"
      ]
     },
     "execution_count": 17,
     "metadata": {},
     "output_type": "execute_result"
    }
   ],
   "source": [
    "df"
   ]
  }
 ],
 "metadata": {
  "kernelspec": {
   "display_name": "NeuroTech",
   "language": "python",
   "name": "neurotech"
  },
  "language_info": {
   "codemirror_mode": {
    "name": "ipython",
    "version": 3
   },
   "file_extension": ".py",
   "mimetype": "text/x-python",
   "name": "python",
   "nbconvert_exporter": "python",
   "pygments_lexer": "ipython3",
   "version": "3.10.12"
  }
 },
 "nbformat": 4,
 "nbformat_minor": 5
}
